{
 "cells": [
  {
   "cell_type": "markdown",
   "id": "68fa6d1b",
   "metadata": {},
   "source": [
    "# Variables\n",
    "- variables are used to store the value\n",
    "- and the values can be changed"
   ]
  },
  {
   "cell_type": "code",
   "execution_count": 1,
   "id": "6d2e50d4",
   "metadata": {},
   "outputs": [
    {
     "data": {
      "text/plain": [
       "100"
      ]
     },
     "execution_count": 1,
     "metadata": {},
     "output_type": "execute_result"
    }
   ],
   "source": [
    "number = 100\n",
    "number"
   ]
  },
  {
   "cell_type": "code",
   "execution_count": 1,
   "id": "929a6b1d",
   "metadata": {},
   "outputs": [
    {
     "data": {
      "text/plain": [
       "200"
      ]
     },
     "execution_count": 1,
     "metadata": {},
     "output_type": "execute_result"
    }
   ],
   "source": [
    "number = 200\n",
    "number"
   ]
  },
  {
   "cell_type": "markdown",
   "id": "76de7ae4",
   "metadata": {},
   "source": [
    "### **Note**\n",
    "- python is step by step process\n",
    "- Python will take last output as latest value\n",
    "- In the above code, we are using the same variable number\n",
    "- but number value changed 2 times\n",
    "- first time 100\n",
    "- second time 200\n",
    "- latest value 200"
   ]
  },
  {
   "cell_type": "code",
   "execution_count": 3,
   "id": "b93e2173",
   "metadata": {},
   "outputs": [
    {
     "data": {
      "text/plain": [
       "200"
      ]
     },
     "execution_count": 3,
     "metadata": {},
     "output_type": "execute_result"
    }
   ],
   "source": [
    "NUMBER = 200\n",
    "NUMBER"
   ]
  },
  {
   "cell_type": "code",
   "execution_count": 4,
   "id": "75fc2061",
   "metadata": {},
   "outputs": [
    {
     "data": {
      "text/plain": [
       "(200, 200)"
      ]
     },
     "execution_count": 4,
     "metadata": {},
     "output_type": "execute_result"
    }
   ],
   "source": [
    "number, NUMBER"
   ]
  },
  {
   "cell_type": "code",
   "execution_count": 29,
   "id": "8b3b72e1",
   "metadata": {},
   "outputs": [
    {
     "data": {
      "text/plain": [
       "300"
      ]
     },
     "execution_count": 29,
     "metadata": {},
     "output_type": "execute_result"
    }
   ],
   "source": [
    "NUMber = 300\n",
    "NUMber"
   ]
  },
  {
   "cell_type": "markdown",
   "id": "7fabc370",
   "metadata": {},
   "source": []
  },
  {
   "cell_type": "code",
   "execution_count": 25,
   "id": "8d76c417",
   "metadata": {},
   "outputs": [
    {
     "data": {
      "text/plain": [
       "400"
      ]
     },
     "execution_count": 25,
     "metadata": {},
     "output_type": "execute_result"
    }
   ],
   "source": [
    "number123 = 400\n",
    "number123"
   ]
  },
  {
   "cell_type": "code",
   "execution_count": 26,
   "id": "897ffaf4",
   "metadata": {},
   "outputs": [
    {
     "ename": "SyntaxError",
     "evalue": "invalid decimal literal (3351802823.py, line 1)",
     "output_type": "error",
     "traceback": [
      "\u001b[1;36m  Cell \u001b[1;32mIn[26], line 1\u001b[1;36m\u001b[0m\n\u001b[1;33m    123number = 500\u001b[0m\n\u001b[1;37m      ^\u001b[0m\n\u001b[1;31mSyntaxError\u001b[0m\u001b[1;31m:\u001b[0m invalid decimal literal\n"
     ]
    }
   ],
   "source": [
    "123number = 500\n",
    "123number"
   ]
  },
  {
   "cell_type": "markdown",
   "id": "477ef845",
   "metadata": {},
   "source": [
    "123number - 500\n",
    "123number"
   ]
  },
  {
   "cell_type": "code",
   "execution_count": 9,
   "id": "f93af335",
   "metadata": {},
   "outputs": [
    {
     "ename": "SyntaxError",
     "evalue": "cannot assign to expression here. Maybe you meant '==' instead of '='? (1823274275.py, line 1)",
     "output_type": "error",
     "traceback": [
      "\u001b[1;36m  Cell \u001b[1;32mIn[9], line 1\u001b[1;36m\u001b[0m\n\u001b[1;33m    numb%er=600\u001b[0m\n\u001b[1;37m    ^\u001b[0m\n\u001b[1;31mSyntaxError\u001b[0m\u001b[1;31m:\u001b[0m cannot assign to expression here. Maybe you meant '==' instead of '='?\n"
     ]
    }
   ],
   "source": [
    "numb%er=600\n",
    "numb%er"
   ]
  },
  {
   "cell_type": "code",
   "execution_count": 3,
   "id": "e78ecf73",
   "metadata": {},
   "outputs": [
    {
     "ename": "SyntaxError",
     "evalue": "cannot assign to expression here. Maybe you meant '==' instead of '='? (3606004640.py, line 1)",
     "output_type": "error",
     "traceback": [
      "\u001b[1;36m  Cell \u001b[1;32mIn[3], line 1\u001b[1;36m\u001b[0m\n\u001b[1;33m    numb@er=800\u001b[0m\n\u001b[1;37m    ^\u001b[0m\n\u001b[1;31mSyntaxError\u001b[0m\u001b[1;31m:\u001b[0m cannot assign to expression here. Maybe you meant '==' instead of '='?\n"
     ]
    }
   ],
   "source": [
    "numb@er=800\n",
    "numb@er"
   ]
  },
  {
   "cell_type": "code",
   "execution_count": 10,
   "id": "ae38d933",
   "metadata": {},
   "outputs": [
    {
     "ename": "SyntaxError",
     "evalue": "invalid syntax (2847865279.py, line 1)",
     "output_type": "error",
     "traceback": [
      "\u001b[1;36m  Cell \u001b[1;32mIn[10], line 1\u001b[1;36m\u001b[0m\n\u001b[1;33m    number one = 800\u001b[0m\n\u001b[1;37m           ^\u001b[0m\n\u001b[1;31mSyntaxError\u001b[0m\u001b[1;31m:\u001b[0m invalid syntax\n"
     ]
    }
   ],
   "source": [
    "number one = 800\n",
    "number one"
   ]
  },
  {
   "cell_type": "code",
   "execution_count": 30,
   "id": "3f06fe79",
   "metadata": {},
   "outputs": [
    {
     "data": {
      "text/plain": [
       "900"
      ]
     },
     "execution_count": 30,
     "metadata": {},
     "output_type": "execute_result"
    }
   ],
   "source": [
    "number_one = 900\n",
    "number_one"
   ]
  },
  {
   "cell_type": "code",
   "execution_count": 11,
   "id": "cf57c8d9",
   "metadata": {},
   "outputs": [
    {
     "data": {
      "text/plain": [
       "1000"
      ]
     },
     "execution_count": 11,
     "metadata": {},
     "output_type": "execute_result"
    }
   ],
   "source": [
    "_=1000\n",
    "_\n",
    "\n",
    "# *important interview question*"
   ]
  },
  {
   "cell_type": "code",
   "execution_count": 21,
   "id": "8862918e",
   "metadata": {},
   "outputs": [
    {
     "data": {
      "text/plain": [
       "(100, 200)"
      ]
     },
     "execution_count": 21,
     "metadata": {},
     "output_type": "execute_result"
    }
   ],
   "source": [
    "n1=100,200   #tuple\n",
    "n1 "
   ]
  },
  {
   "cell_type": "code",
   "execution_count": 33,
   "id": "af585855",
   "metadata": {},
   "outputs": [
    {
     "ename": "TypeError",
     "evalue": "cannot unpack non-iterable int object",
     "output_type": "error",
     "traceback": [
      "\u001b[1;31m---------------------------------------------------------------------------\u001b[0m",
      "\u001b[1;31mTypeError\u001b[0m                                 Traceback (most recent call last)",
      "Cell \u001b[1;32mIn[33], line 1\u001b[0m\n\u001b[1;32m----> 1\u001b[0m n2,n3\u001b[38;5;241m=\u001b[39m\u001b[38;5;241m200\u001b[39m\n\u001b[0;32m      2\u001b[0m \u001b[38;5;28mprint\u001b[39m(n3)\n",
      "\u001b[1;31mTypeError\u001b[0m: cannot unpack non-iterable int object"
     ]
    }
   ],
   "source": [
    "n2,n3=200"
   ]
  },
  {
   "cell_type": "code",
   "execution_count": 16,
   "id": "c5905541",
   "metadata": {},
   "outputs": [
    {
     "data": {
      "text/plain": [
       "200"
      ]
     },
     "execution_count": 16,
     "metadata": {},
     "output_type": "execute_result"
    }
   ],
   "source": [
    "n4,n5=100,200\n",
    "n4,n5\n",
    "\n",
    "n4\n",
    "n5"
   ]
  },
  {
   "cell_type": "code",
   "execution_count": 6,
   "id": "7306493d",
   "metadata": {},
   "outputs": [
    {
     "data": {
      "text/plain": [
       "(100, 200)"
      ]
     },
     "execution_count": 6,
     "metadata": {},
     "output_type": "execute_result"
    }
   ],
   "source": [
    "n4,n5=100,200\n",
    "n4,n5"
   ]
  },
  {
   "cell_type": "code",
   "execution_count": 17,
   "id": "904e5d5a",
   "metadata": {},
   "outputs": [
    {
     "name": "stdout",
     "output_type": "stream",
     "text": [
      "100\n",
      "200\n"
     ]
    }
   ],
   "source": [
    "print(n4)\n",
    "print(n5)\n",
    "#without print, only last value will come"
   ]
  },
  {
   "cell_type": "code",
   "execution_count": 1,
   "id": "954a8ab1",
   "metadata": {},
   "outputs": [
    {
     "name": "stdout",
     "output_type": "stream",
     "text": [
      "10\n",
      "20\n"
     ]
    },
    {
     "data": {
      "text/plain": [
       "(None, None)"
      ]
     },
     "execution_count": 1,
     "metadata": {},
     "output_type": "execute_result"
    }
   ],
   "source": [
    "print(10), print(20)"
   ]
  },
  {
   "cell_type": "code",
   "execution_count": 34,
   "id": "9a26983d",
   "metadata": {},
   "outputs": [
    {
     "ename": "SyntaxError",
     "evalue": "invalid decimal literal (4193901495.py, line 5)",
     "output_type": "error",
     "traceback": [
      "\u001b[1;36m  Cell \u001b[1;32mIn[34], line 5\u001b[1;36m\u001b[0m\n\u001b[1;33m    123number = 600\u001b[0m\n\u001b[1;37m      ^\u001b[0m\n\u001b[1;31mSyntaxError\u001b[0m\u001b[1;31m:\u001b[0m invalid decimal literal\n"
     ]
    }
   ],
   "source": [
    "number = 200  #w\n",
    "NUMBER = 300  #w\n",
    "NUMber = 400  #w   \n",
    "number123 = 500 #w\n",
    "123number = 600  #f\n",
    "num%er = 700 #\n",
    "number one = 800 #f\n",
    "number_ = 900  #w\n",
    "_=1000   #w\n",
    "n1=100,200  #w\n",
    "n2,n3=200  #f\n",
    "n4,n5=100,200  #w\n",
    "n1,_=200,300 #w\n",
    "if, else, for, while, range  #f\n",
    "True,true  # true w"
   ]
  },
  {
   "cell_type": "code",
   "execution_count": 13,
   "id": "bb263756",
   "metadata": {},
   "outputs": [],
   "source": [
    "n1,_=200,300"
   ]
  },
  {
   "cell_type": "code",
   "execution_count": 10,
   "id": "928eb059",
   "metadata": {},
   "outputs": [
    {
     "ename": "SyntaxError",
     "evalue": "invalid syntax (2974327018.py, line 1)",
     "output_type": "error",
     "traceback": [
      "\u001b[1;36m  Cell \u001b[1;32mIn[10], line 1\u001b[1;36m\u001b[0m\n\u001b[1;33m    if = 100\u001b[0m\n\u001b[1;37m       ^\u001b[0m\n\u001b[1;31mSyntaxError\u001b[0m\u001b[1;31m:\u001b[0m invalid syntax\n"
     ]
    }
   ],
   "source": [
    "if = 100"
   ]
  },
  {
   "cell_type": "code",
   "execution_count": null,
   "id": "13f53f80",
   "metadata": {},
   "outputs": [],
   "source": [
    "if, else, for, while, "
   ]
  },
  {
   "cell_type": "code",
   "execution_count": null,
   "id": "fdca1674",
   "metadata": {},
   "outputs": [],
   "source": [
    "True true"
   ]
  },
  {
   "cell_type": "markdown",
   "id": "ee1fca30",
   "metadata": {},
   "source": [
    "- python variables are case sensitive\n",
    "- variables can be declared as capital letters, variables\n",
    "- variables can be declared as small leters\n",
    "- variables cannot start with numbers (prefix)\n",
    "- numbers can be suffix of the variables\n",
    "- variables cannot have special characters except **underscore**\n",
    "- only underscore is possible\n",
    "- variables does not have space between the naming\n",
    "- keywords cannot be used as variable\n",
    "- two values can be assigned to a single variable \n",
    "- One value cannot assign to two  variable\n"
   ]
  },
  {
   "cell_type": "code",
   "execution_count": 13,
   "id": "d01f6d47",
   "metadata": {},
   "outputs": [
    {
     "ename": "TypeError",
     "evalue": "cannot unpack non-iterable int object",
     "output_type": "error",
     "traceback": [
      "\u001b[1;31m---------------------------------------------------------------------------\u001b[0m",
      "\u001b[1;31mTypeError\u001b[0m                                 Traceback (most recent call last)",
      "Cell \u001b[1;32mIn[13], line 1\u001b[0m\n\u001b[1;32m----> 1\u001b[0m n1,n2\u001b[38;5;241m=\u001b[39m\u001b[38;5;241m200\u001b[39m\n",
      "\u001b[1;31mTypeError\u001b[0m: cannot unpack non-iterable int object"
     ]
    }
   ],
   "source": [
    "n1,n2=200"
   ]
  },
  {
   "cell_type": "code",
   "execution_count": 14,
   "id": "9149de59",
   "metadata": {},
   "outputs": [
    {
     "data": {
      "text/plain": [
       "(200, 300)"
      ]
     },
     "execution_count": 14,
     "metadata": {},
     "output_type": "execute_result"
    }
   ],
   "source": [
    "n1 = 200,300\n",
    "n1"
   ]
  },
  {
   "cell_type": "code",
   "execution_count": 7,
   "id": "5bdc77b1",
   "metadata": {},
   "outputs": [
    {
     "data": {
      "text/plain": [
       "(200, 300)"
      ]
     },
     "execution_count": 7,
     "metadata": {},
     "output_type": "execute_result"
    }
   ],
   "source": [
    "n1,n2=200,300\n",
    "n1,n2"
   ]
  },
  {
   "cell_type": "code",
   "execution_count": 8,
   "id": "4e5e8c97",
   "metadata": {},
   "outputs": [
    {
     "data": {
      "text/plain": [
       "300"
      ]
     },
     "execution_count": 8,
     "metadata": {},
     "output_type": "execute_result"
    }
   ],
   "source": [
    "n1\n",
    "n2"
   ]
  },
  {
   "cell_type": "code",
   "execution_count": 9,
   "id": "1dd5952f",
   "metadata": {},
   "outputs": [
    {
     "data": {
      "text/plain": [
       "300"
      ]
     },
     "execution_count": 9,
     "metadata": {},
     "output_type": "execute_result"
    }
   ],
   "source": [
    "n1,n2\n",
    "\n",
    "n1\n",
    "n2"
   ]
  },
  {
   "cell_type": "code",
   "execution_count": 10,
   "id": "df46a9cc",
   "metadata": {},
   "outputs": [
    {
     "name": "stdout",
     "output_type": "stream",
     "text": [
      "200\n",
      "300\n"
     ]
    }
   ],
   "source": [
    "print(n1)\n",
    "print(n2)"
   ]
  },
  {
   "cell_type": "code",
   "execution_count": 11,
   "id": "986fb6f8",
   "metadata": {},
   "outputs": [
    {
     "name": "stdout",
     "output_type": "stream",
     "text": [
      "200 300\n"
     ]
    }
   ],
   "source": [
    "print(n1,n2)"
   ]
  },
  {
   "cell_type": "code",
   "execution_count": 15,
   "id": "be866b68",
   "metadata": {},
   "outputs": [
    {
     "name": "stdout",
     "output_type": "stream",
     "text": [
      "100 200\n"
     ]
    }
   ],
   "source": [
    "print(100,200)"
   ]
  },
  {
   "cell_type": "code",
   "execution_count": 12,
   "id": "29a73e1c",
   "metadata": {},
   "outputs": [
    {
     "name": "stdout",
     "output_type": "stream",
     "text": [
      "200\n",
      "300\n"
     ]
    },
    {
     "data": {
      "text/plain": [
       "(None, None)"
      ]
     },
     "execution_count": 12,
     "metadata": {},
     "output_type": "execute_result"
    }
   ],
   "source": [
    "print(n1), print(n2)"
   ]
  },
  {
   "cell_type": "code",
   "execution_count": null,
   "id": "a79ef263",
   "metadata": {},
   "outputs": [],
   "source": []
  }
 ],
 "metadata": {
  "kernelspec": {
   "display_name": "Python 3 (ipykernel)",
   "language": "python",
   "name": "python3"
  },
  "language_info": {
   "codemirror_mode": {
    "name": "ipython",
    "version": 3
   },
   "file_extension": ".py",
   "mimetype": "text/x-python",
   "name": "python",
   "nbconvert_exporter": "python",
   "pygments_lexer": "ipython3",
   "version": "3.11.7"
  }
 },
 "nbformat": 4,
 "nbformat_minor": 5
}
