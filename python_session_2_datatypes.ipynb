{
 "cells": [
  {
   "cell_type": "markdown",
   "id": "be3d542e",
   "metadata": {},
   "source": [
    "- in python type declaration not required\n",
    "- python will automatically take the type based on provided\n",
    "- we have many data types available\n",
    "- the main data types\n",
    "    - integer\n",
    "    - float\n",
    "    - boolean\n",
    "    - string\n",
    "    \n",
    "- list, dictionary, tuple, complex..........."
   ]
  },
  {
   "cell_type": "code",
   "execution_count": 2,
   "id": "4e359874",
   "metadata": {},
   "outputs": [
    {
     "data": {
      "text/plain": [
       "int"
      ]
     },
     "execution_count": 2,
     "metadata": {},
     "output_type": "execute_result"
    }
   ],
   "source": [
    "#integer datatypes\n",
    "n=100\n",
    "type(n)"
   ]
  },
  {
   "cell_type": "markdown",
   "id": "ca76f021",
   "metadata": {},
   "source": [
    "- binary representation\n",
    "- octa representation\n",
    "- hexa representation"
   ]
  },
  {
   "cell_type": "markdown",
   "id": "034f0ca7",
   "metadata": {},
   "source": []
  },
  {
   "cell_type": "code",
   "execution_count": null,
   "id": "df5264c4",
   "metadata": {},
   "outputs": [],
   "source": [
    "**Binary**\n",
    "- bi means 2\n",
    "- so it requires 2 digits\n",
    "- Generally we have 0 1 2 3 4 5 6 7 8 9 \n",
    "- So it will represent with only 0 and 1\n",
    "- representation is 0b10, 0b01111, 0B111\n",
    "- wrong representation is 0b102, 0b007, "
   ]
  },
  {
   "cell_type": "code",
   "execution_count": 2,
   "id": "7d80a137",
   "metadata": {},
   "outputs": [],
   "source": [
    "import os"
   ]
  },
  {
   "cell_type": "code",
   "execution_count": 3,
   "id": "5aa288f4",
   "metadata": {},
   "outputs": [
    {
     "data": {
      "text/plain": [
       "'C:\\\\Users\\\\priya\\\\Documents\\\\naresh IT\\\\python'"
      ]
     },
     "execution_count": 3,
     "metadata": {},
     "output_type": "execute_result"
    }
   ],
   "source": [
    "os.getcwd()   \n",
    "#cwd get current working directory\n",
    "#It will give the path where python file is located"
   ]
  },
  {
   "cell_type": "code",
   "execution_count": 4,
   "id": "79a692ec",
   "metadata": {},
   "outputs": [
    {
     "data": {
      "text/plain": [
       "15"
      ]
     },
     "execution_count": 4,
     "metadata": {},
     "output_type": "execute_result"
    }
   ],
   "source": [
    "0b1111   \n",
    "0b00001111"
   ]
  },
  {
   "cell_type": "code",
   "execution_count": 5,
   "id": "9029aa28",
   "metadata": {},
   "outputs": [
    {
     "ename": "SyntaxError",
     "evalue": "invalid syntax (2257778732.py, line 1)",
     "output_type": "error",
     "traceback": [
      "\u001b[1;36m  Cell \u001b[1;32mIn[5], line 1\u001b[1;36m\u001b[0m\n\u001b[1;33m    8   4  2  1   num\u001b[0m\n\u001b[1;37m        ^\u001b[0m\n\u001b[1;31mSyntaxError\u001b[0m\u001b[1;31m:\u001b[0m invalid syntax\n"
     ]
    }
   ],
   "source": [
    "8   4  2  1   num\n",
    "0   0  0  0    0\n",
    "0   0  0  1    1\n",
    "0   0  1  0    2\n",
    "0   0  1  1    3\n",
    "0   1  0  0    4\n",
    "0   1  0  1    5\n",
    "0   1  1  0    6\n",
    "0   1  1  1    7\n",
    "1   0  0  0    8\n",
    "1   0  0  1    9\n",
    "1   0  1  0    10\n",
    "1   0  1  1    11\n",
    "1   1  0  0    12\n",
    "1   1  0  1    13\n",
    "1   1  1  0    14\n",
    "1   1  1  1    15\n",
    "\n",
    "STLD\n",
    "#  check XOR gate"
   ]
  },
  {
   "cell_type": "code",
   "execution_count": 6,
   "id": "5ab9a2f0",
   "metadata": {},
   "outputs": [
    {
     "data": {
      "text/plain": [
       "29"
      ]
     },
     "execution_count": 6,
     "metadata": {},
     "output_type": "execute_result"
    }
   ],
   "source": [
    "0b11101\n",
    "#1+4+8+16 29"
   ]
  },
  {
   "cell_type": "code",
   "execution_count": 8,
   "id": "682a002b",
   "metadata": {},
   "outputs": [
    {
     "data": {
      "text/plain": [
       "59"
      ]
     },
     "execution_count": 8,
     "metadata": {},
     "output_type": "execute_result"
    }
   ],
   "source": [
    "0b111011\n",
    "#1+2+8+16+32 = 59"
   ]
  },
  {
   "cell_type": "markdown",
   "id": "e2ae6c86",
   "metadata": {},
   "source": [
    "- octa means 8\n",
    "- only 8 digits 0 1 2 3 4 5 6 7 8\n",
    "- generally we have 1 2 3 4 5 6 7 8 9\n",
    "- represent with only 0-9, A-F\n",
    "- representation is 0o123, 0o12345, 0o7654321\n",
    "- wrong representation is 0o987\n"
   ]
  },
  {
   "cell_type": "code",
   "execution_count": 10,
   "id": "c4f88743",
   "metadata": {},
   "outputs": [
    {
     "data": {
      "text/plain": [
       "83"
      ]
     },
     "execution_count": 10,
     "metadata": {},
     "output_type": "execute_result"
    }
   ],
   "source": [
    "0o123"
   ]
  },
  {
   "cell_type": "code",
   "execution_count": 11,
   "id": "9a95fe6a",
   "metadata": {},
   "outputs": [
    {
     "data": {
      "text/plain": [
       "83"
      ]
     },
     "execution_count": 11,
     "metadata": {},
     "output_type": "execute_result"
    }
   ],
   "source": [
    "#64*1 + 8*2 + 1*3\n",
    "64+16+3"
   ]
  },
  {
   "cell_type": "code",
   "execution_count": 15,
   "id": "a51981e3",
   "metadata": {},
   "outputs": [
    {
     "data": {
      "text/plain": [
       "668"
      ]
     },
     "execution_count": 15,
     "metadata": {},
     "output_type": "execute_result"
    }
   ],
   "source": [
    "0o1234\n",
    "4+24+128+512\n",
    "668"
   ]
  },
  {
   "cell_type": "markdown",
   "id": "cbd8d52a",
   "metadata": {},
   "source": [
    "- hexa means 16\n",
    "- only 8 digits 0 1 2 3 4 5 6 7 8\n",
    "- generally we have 1 2 3 4 5 6 7 8 9 A(10) B(11) C(12) D(13) E(14) F(15)\n",
    "- represent with only 0-9, A-F\n",
    "- representation is 0xF9, 0x0123abc, 0xabc\n",
    "- wrong representation is 0xGH,0xABCEDEFG \n"
   ]
  },
  {
   "cell_type": "code",
   "execution_count": 17,
   "id": "39f91b0d",
   "metadata": {},
   "outputs": [
    {
     "data": {
      "text/plain": [
       "2748"
      ]
     },
     "execution_count": 17,
     "metadata": {},
     "output_type": "execute_result"
    }
   ],
   "source": [
    "0xabc\n"
   ]
  },
  {
   "cell_type": "code",
   "execution_count": 18,
   "id": "2666870a",
   "metadata": {},
   "outputs": [
    {
     "data": {
      "text/plain": [
       "4671"
      ]
     },
     "execution_count": 18,
     "metadata": {},
     "output_type": "execute_result"
    }
   ],
   "source": [
    "0x123f"
   ]
  },
  {
   "cell_type": "code",
   "execution_count": 24,
   "id": "2b83ff41",
   "metadata": {},
   "outputs": [
    {
     "data": {
      "text/plain": [
       "float"
      ]
     },
     "execution_count": 24,
     "metadata": {},
     "output_type": "execute_result"
    }
   ],
   "source": [
    "n1=1005.23\n",
    "type(n1)"
   ]
  },
  {
   "cell_type": "code",
   "execution_count": 25,
   "id": "04f02dc4",
   "metadata": {},
   "outputs": [
    {
     "data": {
      "text/plain": [
       "int"
      ]
     },
     "execution_count": 25,
     "metadata": {},
     "output_type": "execute_result"
    }
   ],
   "source": [
    "n1=1005\n",
    "type(n1)"
   ]
  },
  {
   "cell_type": "code",
   "execution_count": 22,
   "id": "7f1a30a9",
   "metadata": {},
   "outputs": [
    {
     "name": "stdout",
     "output_type": "stream",
     "text": [
      "10.0 100.0 1000.0 10000.0\n"
     ]
    }
   ],
   "source": [
    "1e1\n",
    "1e2\n",
    "1e3\n",
    "1e4\n",
    "print (1e1, 1e2, 1e3, 1e4)\n",
    "#kep = k*10^p"
   ]
  },
  {
   "cell_type": "code",
   "execution_count": 26,
   "id": "e1c6daf6",
   "metadata": {},
   "outputs": [
    {
     "data": {
      "text/plain": [
       "24000.0"
      ]
     },
     "execution_count": 26,
     "metadata": {},
     "output_type": "execute_result"
    }
   ],
   "source": [
    "24e3\n"
   ]
  },
  {
   "cell_type": "code",
   "execution_count": 28,
   "id": "1389e65a",
   "metadata": {},
   "outputs": [
    {
     "data": {
      "text/plain": [
       "(10.0, 100.0, 1000.0, 10000.0)"
      ]
     },
     "execution_count": 28,
     "metadata": {},
     "output_type": "execute_result"
    }
   ],
   "source": [
    "1e+1, 1e+2, 1e+3,1e+4"
   ]
  },
  {
   "cell_type": "code",
   "execution_count": 29,
   "id": "ae5c61b2",
   "metadata": {},
   "outputs": [
    {
     "data": {
      "text/plain": [
       "(0.1, 0.01, 0.001, 0.0001)"
      ]
     },
     "execution_count": 29,
     "metadata": {},
     "output_type": "execute_result"
    }
   ],
   "source": [
    "1e-1, 1e-2, 1e-3,1e-4\n"
   ]
  },
  {
   "cell_type": "code",
   "execution_count": 30,
   "id": "49d1b7d2",
   "metadata": {},
   "outputs": [
    {
     "data": {
      "text/plain": [
       "0.024"
      ]
     },
     "execution_count": 30,
     "metadata": {},
     "output_type": "execute_result"
    }
   ],
   "source": [
    "24e-3"
   ]
  },
  {
   "cell_type": "markdown",
   "id": "604194b5",
   "metadata": {},
   "source": [
    "- positive sign means multiply\n",
    "- negative means divide"
   ]
  },
  {
   "cell_type": "markdown",
   "id": "90fe5dc9",
   "metadata": {},
   "source": [
    "**strings**\n",
    "- strings are used to represent english characters\n",
    "- represented in single / double / triple quotes\n"
   ]
  },
  {
   "cell_type": "code",
   "execution_count": 50,
   "id": "be3a4d04",
   "metadata": {},
   "outputs": [
    {
     "data": {
      "text/plain": [
       "str"
      ]
     },
     "execution_count": 50,
     "metadata": {},
     "output_type": "execute_result"
    }
   ],
   "source": [
    "name = 'python'\n",
    "type(name)\n",
    "\n"
   ]
  },
  {
   "cell_type": "code",
   "execution_count": 36,
   "id": "9d274799",
   "metadata": {},
   "outputs": [
    {
     "data": {
      "text/plain": [
       "str"
      ]
     },
     "execution_count": 36,
     "metadata": {},
     "output_type": "execute_result"
    }
   ],
   "source": [
    "name1 =\"omkar\"\n",
    "type(name)"
   ]
  },
  {
   "cell_type": "code",
   "execution_count": 37,
   "id": "acd1e867",
   "metadata": {},
   "outputs": [
    {
     "data": {
      "text/plain": [
       "str"
      ]
     },
     "execution_count": 37,
     "metadata": {},
     "output_type": "execute_result"
    }
   ],
   "source": [
    "name2='10'\n",
    "type(name2)"
   ]
  },
  {
   "cell_type": "code",
   "execution_count": 38,
   "id": "4eb32b85",
   "metadata": {},
   "outputs": [
    {
     "data": {
      "text/plain": [
       "str"
      ]
     },
     "execution_count": 38,
     "metadata": {},
     "output_type": "execute_result"
    }
   ],
   "source": [
    "email_id = 'naresh123@gmail.com'\n",
    "type(email_id)"
   ]
  },
  {
   "cell_type": "markdown",
   "id": "0cf23a16",
   "metadata": {},
   "source": [
    "**RED COLOR INDICATES STRINGS** \n",
    "**GREEN COLOR MEANS keywords** \n",
    "**BLACK COLOR means variables** "
   ]
  },
  {
   "cell_type": "code",
   "execution_count": 55,
   "id": "b0fa7843",
   "metadata": {},
   "outputs": [
    {
     "data": {
      "text/plain": [
       "'python'"
      ]
     },
     "execution_count": 55,
     "metadata": {},
     "output_type": "execute_result"
    }
   ],
   "source": [
    "name"
   ]
  },
  {
   "cell_type": "code",
   "execution_count": 40,
   "id": "b03f31c1",
   "metadata": {},
   "outputs": [
    {
     "data": {
      "text/plain": [
       "'omkar'"
      ]
     },
     "execution_count": 40,
     "metadata": {},
     "output_type": "execute_result"
    }
   ],
   "source": [
    "name1"
   ]
  },
  {
   "cell_type": "code",
   "execution_count": null,
   "id": "d950e366",
   "metadata": {},
   "outputs": [],
   "source": [
    "# python's output always in single quotes"
   ]
  },
  {
   "cell_type": "code",
   "execution_count": 42,
   "id": "b305cc28",
   "metadata": {},
   "outputs": [
    {
     "name": "stdout",
     "output_type": "stream",
     "text": [
      "omkar\n"
     ]
    }
   ],
   "source": [
    "print(name)"
   ]
  },
  {
   "cell_type": "code",
   "execution_count": 44,
   "id": "76afc8c0",
   "metadata": {},
   "outputs": [],
   "source": [
    "# using print command, quotes will not be visible"
   ]
  },
  {
   "cell_type": "code",
   "execution_count": 47,
   "id": "af373141",
   "metadata": {},
   "outputs": [
    {
     "name": "stdout",
     "output_type": "stream",
     "text": [
      "i like 'python'\n"
     ]
    }
   ],
   "source": [
    "name=\"i like 'python'\"\n",
    "print (name)"
   ]
  },
  {
   "cell_type": "code",
   "execution_count": 48,
   "id": "2df6c30c",
   "metadata": {},
   "outputs": [
    {
     "name": "stdout",
     "output_type": "stream",
     "text": [
      "i like \"python\"\n"
     ]
    }
   ],
   "source": [
    "# entire string keep in single quotes, highlighted one in double quotes or vice versa\n",
    "name='i like \"python\"'\n",
    "print(name)"
   ]
  },
  {
   "cell_type": "code",
   "execution_count": null,
   "id": "7697a004",
   "metadata": {},
   "outputs": [],
   "source": [
    "*** triple quotes **\n",
    "- not used for coding, for commenting\n",
    "- used to provide information to the user\n",
    "- in order to provide the information in jupyter notebook, use markdown option\n",
    "- in vs code, pycharm no markdown option thats why the world started writing the information in triple quotes.\n",
    "- The entire process is called doc string\n",
    "\n",
    "#that's \n",
    "\n",
    "\"\"\"\n",
    "hello\n",
    "this is a python tutorial\n",
    "\"\"\"\n",
    "## jupyter notebook has markdown, everywhere else doc string"
   ]
  },
  {
   "cell_type": "markdown",
   "id": "d5c89e79",
   "metadata": {},
   "source": [
    "**Boolean**"
   ]
  },
  {
   "cell_type": "code",
   "execution_count": 53,
   "id": "fd863328",
   "metadata": {},
   "outputs": [
    {
     "data": {
      "text/plain": [
       "bool"
      ]
     },
     "execution_count": 53,
     "metadata": {},
     "output_type": "execute_result"
    }
   ],
   "source": [
    "value = True\n",
    "type(value)"
   ]
  },
  {
   "cell_type": "code",
   "execution_count": 54,
   "id": "089e5d1a",
   "metadata": {},
   "outputs": [
    {
     "data": {
      "text/plain": [
       "bool"
      ]
     },
     "execution_count": 54,
     "metadata": {},
     "output_type": "execute_result"
    }
   ],
   "source": [
    "value1 = False\n",
    "type(value1)"
   ]
  },
  {
   "cell_type": "code",
   "execution_count": 1,
   "id": "85519fd8",
   "metadata": {},
   "outputs": [],
   "source": [
    "true = \"True\"\n",
    "false = False\n",
    "##  different colors and their meaning\n",
    "# true and false are variables\n",
    "# type \"True\" is string\n",
    "# type False in boolean"
   ]
  },
  {
   "cell_type": "code",
   "execution_count": null,
   "id": "c2d064e2",
   "metadata": {},
   "outputs": [],
   "source": []
  }
 ],
 "metadata": {
  "kernelspec": {
   "display_name": "Python 3 (ipykernel)",
   "language": "python",
   "name": "python3"
  },
  "language_info": {
   "codemirror_mode": {
    "name": "ipython",
    "version": 3
   },
   "file_extension": ".py",
   "mimetype": "text/x-python",
   "name": "python",
   "nbconvert_exporter": "python",
   "pygments_lexer": "ipython3",
   "version": "3.11.7"
  }
 },
 "nbformat": 4,
 "nbformat_minor": 5
}
